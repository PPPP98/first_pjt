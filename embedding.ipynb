{
 "cells": [
  {
   "cell_type": "markdown",
   "id": "b69f1832",
   "metadata": {},
   "source": [
    "# 패키지 설치\n",
    "1. langchain\n",
    "2. faiss-cpu\n",
    "3. Chroma\n",
    "4. python-docx\n",
    "5. dotenv\n",
    "6. openai"
   ]
  },
  {
   "cell_type": "code",
   "execution_count": 25,
   "id": "68cea8e7",
   "metadata": {},
   "outputs": [
    {
     "name": "stdout",
     "output_type": "stream",
     "text": [
      "Requirement already satisfied: langchain in c:\\users\\p\\desktop\\rag_embed\\first_pjt\\venv\\lib\\site-packages (0.3.27)\n",
      "Requirement already satisfied: langchain-openai in c:\\users\\p\\desktop\\rag_embed\\first_pjt\\venv\\lib\\site-packages (0.3.28)\n",
      "Requirement already satisfied: langchain-chroma in c:\\users\\p\\desktop\\rag_embed\\first_pjt\\venv\\lib\\site-packages (0.2.5)\n",
      "Requirement already satisfied: langchain-community in c:\\users\\p\\desktop\\rag_embed\\first_pjt\\venv\\lib\\site-packages (0.3.27)\n",
      "Requirement already satisfied: openai in c:\\users\\p\\desktop\\rag_embed\\first_pjt\\venv\\lib\\site-packages (1.97.1)\n",
      "Requirement already satisfied: faiss-cpu in c:\\users\\p\\desktop\\rag_embed\\first_pjt\\venv\\lib\\site-packages (1.11.0.post1)\n",
      "Requirement already satisfied: python-docx in c:\\users\\p\\desktop\\rag_embed\\first_pjt\\venv\\lib\\site-packages (1.2.0)\n",
      "Requirement already satisfied: dotenv in c:\\users\\p\\desktop\\rag_embed\\first_pjt\\venv\\lib\\site-packages (0.9.9)\n",
      "Requirement already satisfied: langchain-core<1.0.0,>=0.3.72 in c:\\users\\p\\desktop\\rag_embed\\first_pjt\\venv\\lib\\site-packages (from langchain) (0.3.72)\n",
      "Requirement already satisfied: langchain-text-splitters<1.0.0,>=0.3.9 in c:\\users\\p\\desktop\\rag_embed\\first_pjt\\venv\\lib\\site-packages (from langchain) (0.3.9)\n",
      "Requirement already satisfied: langsmith>=0.1.17 in c:\\users\\p\\desktop\\rag_embed\\first_pjt\\venv\\lib\\site-packages (from langchain) (0.4.8)\n",
      "Requirement already satisfied: pydantic<3.0.0,>=2.7.4 in c:\\users\\p\\desktop\\rag_embed\\first_pjt\\venv\\lib\\site-packages (from langchain) (2.11.7)\n",
      "Requirement already satisfied: SQLAlchemy<3,>=1.4 in c:\\users\\p\\desktop\\rag_embed\\first_pjt\\venv\\lib\\site-packages (from langchain) (2.0.41)\n",
      "Requirement already satisfied: requests<3,>=2 in c:\\users\\p\\desktop\\rag_embed\\first_pjt\\venv\\lib\\site-packages (from langchain) (2.32.4)\n",
      "Requirement already satisfied: PyYAML>=5.3 in c:\\users\\p\\desktop\\rag_embed\\first_pjt\\venv\\lib\\site-packages (from langchain) (6.0.2)\n",
      "Requirement already satisfied: tenacity!=8.4.0,<10.0.0,>=8.1.0 in c:\\users\\p\\desktop\\rag_embed\\first_pjt\\venv\\lib\\site-packages (from langchain-core<1.0.0,>=0.3.72->langchain) (9.1.2)\n",
      "Requirement already satisfied: jsonpatch<2.0,>=1.33 in c:\\users\\p\\desktop\\rag_embed\\first_pjt\\venv\\lib\\site-packages (from langchain-core<1.0.0,>=0.3.72->langchain) (1.33)\n",
      "Requirement already satisfied: typing-extensions>=4.7 in c:\\users\\p\\desktop\\rag_embed\\first_pjt\\venv\\lib\\site-packages (from langchain-core<1.0.0,>=0.3.72->langchain) (4.14.1)\n",
      "Requirement already satisfied: packaging>=23.2 in c:\\users\\p\\desktop\\rag_embed\\first_pjt\\venv\\lib\\site-packages (from langchain-core<1.0.0,>=0.3.72->langchain) (25.0)\n",
      "Requirement already satisfied: jsonpointer>=1.9 in c:\\users\\p\\desktop\\rag_embed\\first_pjt\\venv\\lib\\site-packages (from jsonpatch<2.0,>=1.33->langchain-core<1.0.0,>=0.3.72->langchain) (3.0.0)\n",
      "Requirement already satisfied: annotated-types>=0.6.0 in c:\\users\\p\\desktop\\rag_embed\\first_pjt\\venv\\lib\\site-packages (from pydantic<3.0.0,>=2.7.4->langchain) (0.7.0)\n",
      "Requirement already satisfied: pydantic-core==2.33.2 in c:\\users\\p\\desktop\\rag_embed\\first_pjt\\venv\\lib\\site-packages (from pydantic<3.0.0,>=2.7.4->langchain) (2.33.2)\n",
      "Requirement already satisfied: typing-inspection>=0.4.0 in c:\\users\\p\\desktop\\rag_embed\\first_pjt\\venv\\lib\\site-packages (from pydantic<3.0.0,>=2.7.4->langchain) (0.4.1)\n",
      "Requirement already satisfied: charset_normalizer<4,>=2 in c:\\users\\p\\desktop\\rag_embed\\first_pjt\\venv\\lib\\site-packages (from requests<3,>=2->langchain) (3.4.2)\n",
      "Requirement already satisfied: idna<4,>=2.5 in c:\\users\\p\\desktop\\rag_embed\\first_pjt\\venv\\lib\\site-packages (from requests<3,>=2->langchain) (3.10)\n",
      "Requirement already satisfied: urllib3<3,>=1.21.1 in c:\\users\\p\\desktop\\rag_embed\\first_pjt\\venv\\lib\\site-packages (from requests<3,>=2->langchain) (2.5.0)\n",
      "Requirement already satisfied: certifi>=2017.4.17 in c:\\users\\p\\desktop\\rag_embed\\first_pjt\\venv\\lib\\site-packages (from requests<3,>=2->langchain) (2025.7.14)\n",
      "Requirement already satisfied: greenlet>=1 in c:\\users\\p\\desktop\\rag_embed\\first_pjt\\venv\\lib\\site-packages (from SQLAlchemy<3,>=1.4->langchain) (3.2.3)\n",
      "Requirement already satisfied: tiktoken<1,>=0.7 in c:\\users\\p\\desktop\\rag_embed\\first_pjt\\venv\\lib\\site-packages (from langchain-openai) (0.9.0)\n",
      "Requirement already satisfied: anyio<5,>=3.5.0 in c:\\users\\p\\desktop\\rag_embed\\first_pjt\\venv\\lib\\site-packages (from openai) (4.9.0)\n",
      "Requirement already satisfied: distro<2,>=1.7.0 in c:\\users\\p\\desktop\\rag_embed\\first_pjt\\venv\\lib\\site-packages (from openai) (1.9.0)\n",
      "Requirement already satisfied: httpx<1,>=0.23.0 in c:\\users\\p\\desktop\\rag_embed\\first_pjt\\venv\\lib\\site-packages (from openai) (0.28.1)\n",
      "Requirement already satisfied: jiter<1,>=0.4.0 in c:\\users\\p\\desktop\\rag_embed\\first_pjt\\venv\\lib\\site-packages (from openai) (0.10.0)\n",
      "Requirement already satisfied: sniffio in c:\\users\\p\\desktop\\rag_embed\\first_pjt\\venv\\lib\\site-packages (from openai) (1.3.1)\n",
      "Requirement already satisfied: tqdm>4 in c:\\users\\p\\desktop\\rag_embed\\first_pjt\\venv\\lib\\site-packages (from openai) (4.67.1)\n",
      "Requirement already satisfied: httpcore==1.* in c:\\users\\p\\desktop\\rag_embed\\first_pjt\\venv\\lib\\site-packages (from httpx<1,>=0.23.0->openai) (1.0.9)\n",
      "Requirement already satisfied: h11>=0.16 in c:\\users\\p\\desktop\\rag_embed\\first_pjt\\venv\\lib\\site-packages (from httpcore==1.*->httpx<1,>=0.23.0->openai) (0.16.0)\n",
      "Requirement already satisfied: regex>=2022.1.18 in c:\\users\\p\\desktop\\rag_embed\\first_pjt\\venv\\lib\\site-packages (from tiktoken<1,>=0.7->langchain-openai) (2024.11.6)\n",
      "Requirement already satisfied: numpy>=1.26.0 in c:\\users\\p\\desktop\\rag_embed\\first_pjt\\venv\\lib\\site-packages (from langchain-chroma) (2.3.2)\n",
      "Requirement already satisfied: chromadb>=1.0.9 in c:\\users\\p\\desktop\\rag_embed\\first_pjt\\venv\\lib\\site-packages (from langchain-chroma) (1.0.15)\n",
      "Requirement already satisfied: aiohttp<4.0.0,>=3.8.3 in c:\\users\\p\\desktop\\rag_embed\\first_pjt\\venv\\lib\\site-packages (from langchain-community) (3.12.15)\n",
      "Requirement already satisfied: dataclasses-json<0.7,>=0.5.7 in c:\\users\\p\\desktop\\rag_embed\\first_pjt\\venv\\lib\\site-packages (from langchain-community) (0.6.7)\n",
      "Requirement already satisfied: pydantic-settings<3.0.0,>=2.4.0 in c:\\users\\p\\desktop\\rag_embed\\first_pjt\\venv\\lib\\site-packages (from langchain-community) (2.10.1)\n",
      "Requirement already satisfied: httpx-sse<1.0.0,>=0.4.0 in c:\\users\\p\\desktop\\rag_embed\\first_pjt\\venv\\lib\\site-packages (from langchain-community) (0.4.1)\n",
      "Requirement already satisfied: aiohappyeyeballs>=2.5.0 in c:\\users\\p\\desktop\\rag_embed\\first_pjt\\venv\\lib\\site-packages (from aiohttp<4.0.0,>=3.8.3->langchain-community) (2.6.1)\n",
      "Requirement already satisfied: aiosignal>=1.4.0 in c:\\users\\p\\desktop\\rag_embed\\first_pjt\\venv\\lib\\site-packages (from aiohttp<4.0.0,>=3.8.3->langchain-community) (1.4.0)\n",
      "Requirement already satisfied: attrs>=17.3.0 in c:\\users\\p\\desktop\\rag_embed\\first_pjt\\venv\\lib\\site-packages (from aiohttp<4.0.0,>=3.8.3->langchain-community) (25.3.0)\n",
      "Requirement already satisfied: frozenlist>=1.1.1 in c:\\users\\p\\desktop\\rag_embed\\first_pjt\\venv\\lib\\site-packages (from aiohttp<4.0.0,>=3.8.3->langchain-community) (1.7.0)\n",
      "Requirement already satisfied: multidict<7.0,>=4.5 in c:\\users\\p\\desktop\\rag_embed\\first_pjt\\venv\\lib\\site-packages (from aiohttp<4.0.0,>=3.8.3->langchain-community) (6.6.3)\n",
      "Requirement already satisfied: propcache>=0.2.0 in c:\\users\\p\\desktop\\rag_embed\\first_pjt\\venv\\lib\\site-packages (from aiohttp<4.0.0,>=3.8.3->langchain-community) (0.3.2)\n",
      "Requirement already satisfied: yarl<2.0,>=1.17.0 in c:\\users\\p\\desktop\\rag_embed\\first_pjt\\venv\\lib\\site-packages (from aiohttp<4.0.0,>=3.8.3->langchain-community) (1.20.1)\n",
      "Requirement already satisfied: marshmallow<4.0.0,>=3.18.0 in c:\\users\\p\\desktop\\rag_embed\\first_pjt\\venv\\lib\\site-packages (from dataclasses-json<0.7,>=0.5.7->langchain-community) (3.26.1)\n",
      "Requirement already satisfied: typing-inspect<1,>=0.4.0 in c:\\users\\p\\desktop\\rag_embed\\first_pjt\\venv\\lib\\site-packages (from dataclasses-json<0.7,>=0.5.7->langchain-community) (0.9.0)\n",
      "Requirement already satisfied: python-dotenv>=0.21.0 in c:\\users\\p\\desktop\\rag_embed\\first_pjt\\venv\\lib\\site-packages (from pydantic-settings<3.0.0,>=2.4.0->langchain-community) (1.1.1)\n",
      "Requirement already satisfied: mypy-extensions>=0.3.0 in c:\\users\\p\\desktop\\rag_embed\\first_pjt\\venv\\lib\\site-packages (from typing-inspect<1,>=0.4.0->dataclasses-json<0.7,>=0.5.7->langchain-community) (1.1.0)\n",
      "Requirement already satisfied: lxml>=3.1.0 in c:\\users\\p\\desktop\\rag_embed\\first_pjt\\venv\\lib\\site-packages (from python-docx) (6.0.0)\n",
      "Requirement already satisfied: build>=1.0.3 in c:\\users\\p\\desktop\\rag_embed\\first_pjt\\venv\\lib\\site-packages (from chromadb>=1.0.9->langchain-chroma) (1.2.2.post1)\n",
      "Requirement already satisfied: pybase64>=1.4.1 in c:\\users\\p\\desktop\\rag_embed\\first_pjt\\venv\\lib\\site-packages (from chromadb>=1.0.9->langchain-chroma) (1.4.2)\n",
      "Requirement already satisfied: uvicorn>=0.18.3 in c:\\users\\p\\desktop\\rag_embed\\first_pjt\\venv\\lib\\site-packages (from uvicorn[standard]>=0.18.3->chromadb>=1.0.9->langchain-chroma) (0.35.0)\n",
      "Requirement already satisfied: posthog<6.0.0,>=2.4.0 in c:\\users\\p\\desktop\\rag_embed\\first_pjt\\venv\\lib\\site-packages (from chromadb>=1.0.9->langchain-chroma) (5.4.0)\n",
      "Requirement already satisfied: onnxruntime>=1.14.1 in c:\\users\\p\\desktop\\rag_embed\\first_pjt\\venv\\lib\\site-packages (from chromadb>=1.0.9->langchain-chroma) (1.22.1)\n",
      "Requirement already satisfied: opentelemetry-api>=1.2.0 in c:\\users\\p\\desktop\\rag_embed\\first_pjt\\venv\\lib\\site-packages (from chromadb>=1.0.9->langchain-chroma) (1.35.0)\n",
      "Requirement already satisfied: opentelemetry-exporter-otlp-proto-grpc>=1.2.0 in c:\\users\\p\\desktop\\rag_embed\\first_pjt\\venv\\lib\\site-packages (from chromadb>=1.0.9->langchain-chroma) (1.35.0)\n",
      "Requirement already satisfied: opentelemetry-sdk>=1.2.0 in c:\\users\\p\\desktop\\rag_embed\\first_pjt\\venv\\lib\\site-packages (from chromadb>=1.0.9->langchain-chroma) (1.35.0)\n",
      "Requirement already satisfied: tokenizers>=0.13.2 in c:\\users\\p\\desktop\\rag_embed\\first_pjt\\venv\\lib\\site-packages (from chromadb>=1.0.9->langchain-chroma) (0.21.4)\n",
      "Requirement already satisfied: pypika>=0.48.9 in c:\\users\\p\\desktop\\rag_embed\\first_pjt\\venv\\lib\\site-packages (from chromadb>=1.0.9->langchain-chroma) (0.48.9)\n",
      "Requirement already satisfied: overrides>=7.3.1 in c:\\users\\p\\desktop\\rag_embed\\first_pjt\\venv\\lib\\site-packages (from chromadb>=1.0.9->langchain-chroma) (7.7.0)\n",
      "Requirement already satisfied: importlib-resources in c:\\users\\p\\desktop\\rag_embed\\first_pjt\\venv\\lib\\site-packages (from chromadb>=1.0.9->langchain-chroma) (6.5.2)\n",
      "Requirement already satisfied: grpcio>=1.58.0 in c:\\users\\p\\desktop\\rag_embed\\first_pjt\\venv\\lib\\site-packages (from chromadb>=1.0.9->langchain-chroma) (1.74.0)\n",
      "Requirement already satisfied: bcrypt>=4.0.1 in c:\\users\\p\\desktop\\rag_embed\\first_pjt\\venv\\lib\\site-packages (from chromadb>=1.0.9->langchain-chroma) (4.3.0)\n",
      "Requirement already satisfied: typer>=0.9.0 in c:\\users\\p\\desktop\\rag_embed\\first_pjt\\venv\\lib\\site-packages (from chromadb>=1.0.9->langchain-chroma) (0.16.0)\n",
      "Requirement already satisfied: kubernetes>=28.1.0 in c:\\users\\p\\desktop\\rag_embed\\first_pjt\\venv\\lib\\site-packages (from chromadb>=1.0.9->langchain-chroma) (33.1.0)\n",
      "Requirement already satisfied: mmh3>=4.0.1 in c:\\users\\p\\desktop\\rag_embed\\first_pjt\\venv\\lib\\site-packages (from chromadb>=1.0.9->langchain-chroma) (5.2.0)\n",
      "Requirement already satisfied: orjson>=3.9.12 in c:\\users\\p\\desktop\\rag_embed\\first_pjt\\venv\\lib\\site-packages (from chromadb>=1.0.9->langchain-chroma) (3.11.1)\n",
      "Requirement already satisfied: rich>=10.11.0 in c:\\users\\p\\desktop\\rag_embed\\first_pjt\\venv\\lib\\site-packages (from chromadb>=1.0.9->langchain-chroma) (14.1.0)\n",
      "Requirement already satisfied: jsonschema>=4.19.0 in c:\\users\\p\\desktop\\rag_embed\\first_pjt\\venv\\lib\\site-packages (from chromadb>=1.0.9->langchain-chroma) (4.25.0)\n",
      "Requirement already satisfied: six>=1.5 in c:\\users\\p\\desktop\\rag_embed\\first_pjt\\venv\\lib\\site-packages (from posthog<6.0.0,>=2.4.0->chromadb>=1.0.9->langchain-chroma) (1.17.0)\n",
      "Requirement already satisfied: python-dateutil>=2.2 in c:\\users\\p\\desktop\\rag_embed\\first_pjt\\venv\\lib\\site-packages (from posthog<6.0.0,>=2.4.0->chromadb>=1.0.9->langchain-chroma) (2.9.0.post0)\n",
      "Requirement already satisfied: backoff>=1.10.0 in c:\\users\\p\\desktop\\rag_embed\\first_pjt\\venv\\lib\\site-packages (from posthog<6.0.0,>=2.4.0->chromadb>=1.0.9->langchain-chroma) (2.2.1)\n",
      "Requirement already satisfied: pyproject_hooks in c:\\users\\p\\desktop\\rag_embed\\first_pjt\\venv\\lib\\site-packages (from build>=1.0.3->chromadb>=1.0.9->langchain-chroma) (1.2.0)\n",
      "Requirement already satisfied: colorama in c:\\users\\p\\desktop\\rag_embed\\first_pjt\\venv\\lib\\site-packages (from build>=1.0.3->chromadb>=1.0.9->langchain-chroma) (0.4.6)\n",
      "Requirement already satisfied: jsonschema-specifications>=2023.03.6 in c:\\users\\p\\desktop\\rag_embed\\first_pjt\\venv\\lib\\site-packages (from jsonschema>=4.19.0->chromadb>=1.0.9->langchain-chroma) (2025.4.1)\n",
      "Requirement already satisfied: referencing>=0.28.4 in c:\\users\\p\\desktop\\rag_embed\\first_pjt\\venv\\lib\\site-packages (from jsonschema>=4.19.0->chromadb>=1.0.9->langchain-chroma) (0.36.2)\n",
      "Requirement already satisfied: rpds-py>=0.7.1 in c:\\users\\p\\desktop\\rag_embed\\first_pjt\\venv\\lib\\site-packages (from jsonschema>=4.19.0->chromadb>=1.0.9->langchain-chroma) (0.26.0)\n",
      "Requirement already satisfied: google-auth>=1.0.1 in c:\\users\\p\\desktop\\rag_embed\\first_pjt\\venv\\lib\\site-packages (from kubernetes>=28.1.0->chromadb>=1.0.9->langchain-chroma) (2.40.3)\n",
      "Requirement already satisfied: websocket-client!=0.40.0,!=0.41.*,!=0.42.*,>=0.32.0 in c:\\users\\p\\desktop\\rag_embed\\first_pjt\\venv\\lib\\site-packages (from kubernetes>=28.1.0->chromadb>=1.0.9->langchain-chroma) (1.8.0)\n",
      "Requirement already satisfied: requests-oauthlib in c:\\users\\p\\desktop\\rag_embed\\first_pjt\\venv\\lib\\site-packages (from kubernetes>=28.1.0->chromadb>=1.0.9->langchain-chroma) (2.0.0)\n",
      "Requirement already satisfied: oauthlib>=3.2.2 in c:\\users\\p\\desktop\\rag_embed\\first_pjt\\venv\\lib\\site-packages (from kubernetes>=28.1.0->chromadb>=1.0.9->langchain-chroma) (3.3.1)\n",
      "Requirement already satisfied: durationpy>=0.7 in c:\\users\\p\\desktop\\rag_embed\\first_pjt\\venv\\lib\\site-packages (from kubernetes>=28.1.0->chromadb>=1.0.9->langchain-chroma) (0.10)\n",
      "Requirement already satisfied: cachetools<6.0,>=2.0.0 in c:\\users\\p\\desktop\\rag_embed\\first_pjt\\venv\\lib\\site-packages (from google-auth>=1.0.1->kubernetes>=28.1.0->chromadb>=1.0.9->langchain-chroma) (5.5.2)\n",
      "Requirement already satisfied: pyasn1-modules>=0.2.1 in c:\\users\\p\\desktop\\rag_embed\\first_pjt\\venv\\lib\\site-packages (from google-auth>=1.0.1->kubernetes>=28.1.0->chromadb>=1.0.9->langchain-chroma) (0.4.2)\n",
      "Requirement already satisfied: rsa<5,>=3.1.4 in c:\\users\\p\\desktop\\rag_embed\\first_pjt\\venv\\lib\\site-packages (from google-auth>=1.0.1->kubernetes>=28.1.0->chromadb>=1.0.9->langchain-chroma) (4.9.1)\n",
      "Requirement already satisfied: pyasn1>=0.1.3 in c:\\users\\p\\desktop\\rag_embed\\first_pjt\\venv\\lib\\site-packages (from rsa<5,>=3.1.4->google-auth>=1.0.1->kubernetes>=28.1.0->chromadb>=1.0.9->langchain-chroma) (0.6.1)\n",
      "Requirement already satisfied: requests-toolbelt<2.0.0,>=1.0.0 in c:\\users\\p\\desktop\\rag_embed\\first_pjt\\venv\\lib\\site-packages (from langsmith>=0.1.17->langchain) (1.0.0)\n",
      "Requirement already satisfied: zstandard<0.24.0,>=0.23.0 in c:\\users\\p\\desktop\\rag_embed\\first_pjt\\venv\\lib\\site-packages (from langsmith>=0.1.17->langchain) (0.23.0)\n",
      "Requirement already satisfied: coloredlogs in c:\\users\\p\\desktop\\rag_embed\\first_pjt\\venv\\lib\\site-packages (from onnxruntime>=1.14.1->chromadb>=1.0.9->langchain-chroma) (15.0.1)\n",
      "Requirement already satisfied: flatbuffers in c:\\users\\p\\desktop\\rag_embed\\first_pjt\\venv\\lib\\site-packages (from onnxruntime>=1.14.1->chromadb>=1.0.9->langchain-chroma) (25.2.10)\n",
      "Requirement already satisfied: protobuf in c:\\users\\p\\desktop\\rag_embed\\first_pjt\\venv\\lib\\site-packages (from onnxruntime>=1.14.1->chromadb>=1.0.9->langchain-chroma) (6.31.1)\n",
      "Requirement already satisfied: sympy in c:\\users\\p\\desktop\\rag_embed\\first_pjt\\venv\\lib\\site-packages (from onnxruntime>=1.14.1->chromadb>=1.0.9->langchain-chroma) (1.14.0)\n",
      "Requirement already satisfied: importlib-metadata<8.8.0,>=6.0 in c:\\users\\p\\desktop\\rag_embed\\first_pjt\\venv\\lib\\site-packages (from opentelemetry-api>=1.2.0->chromadb>=1.0.9->langchain-chroma) (8.7.0)\n",
      "Requirement already satisfied: zipp>=3.20 in c:\\users\\p\\desktop\\rag_embed\\first_pjt\\venv\\lib\\site-packages (from importlib-metadata<8.8.0,>=6.0->opentelemetry-api>=1.2.0->chromadb>=1.0.9->langchain-chroma) (3.23.0)\n",
      "Requirement already satisfied: googleapis-common-protos~=1.57 in c:\\users\\p\\desktop\\rag_embed\\first_pjt\\venv\\lib\\site-packages (from opentelemetry-exporter-otlp-proto-grpc>=1.2.0->chromadb>=1.0.9->langchain-chroma) (1.70.0)\n",
      "Requirement already satisfied: opentelemetry-exporter-otlp-proto-common==1.35.0 in c:\\users\\p\\desktop\\rag_embed\\first_pjt\\venv\\lib\\site-packages (from opentelemetry-exporter-otlp-proto-grpc>=1.2.0->chromadb>=1.0.9->langchain-chroma) (1.35.0)\n",
      "Requirement already satisfied: opentelemetry-proto==1.35.0 in c:\\users\\p\\desktop\\rag_embed\\first_pjt\\venv\\lib\\site-packages (from opentelemetry-exporter-otlp-proto-grpc>=1.2.0->chromadb>=1.0.9->langchain-chroma) (1.35.0)\n",
      "Requirement already satisfied: opentelemetry-semantic-conventions==0.56b0 in c:\\users\\p\\desktop\\rag_embed\\first_pjt\\venv\\lib\\site-packages (from opentelemetry-sdk>=1.2.0->chromadb>=1.0.9->langchain-chroma) (0.56b0)\n",
      "Requirement already satisfied: markdown-it-py>=2.2.0 in c:\\users\\p\\desktop\\rag_embed\\first_pjt\\venv\\lib\\site-packages (from rich>=10.11.0->chromadb>=1.0.9->langchain-chroma) (3.0.0)\n",
      "Requirement already satisfied: pygments<3.0.0,>=2.13.0 in c:\\users\\p\\desktop\\rag_embed\\first_pjt\\venv\\lib\\site-packages (from rich>=10.11.0->chromadb>=1.0.9->langchain-chroma) (2.19.2)\n",
      "Requirement already satisfied: mdurl~=0.1 in c:\\users\\p\\desktop\\rag_embed\\first_pjt\\venv\\lib\\site-packages (from markdown-it-py>=2.2.0->rich>=10.11.0->chromadb>=1.0.9->langchain-chroma) (0.1.2)\n",
      "Requirement already satisfied: huggingface-hub<1.0,>=0.16.4 in c:\\users\\p\\desktop\\rag_embed\\first_pjt\\venv\\lib\\site-packages (from tokenizers>=0.13.2->chromadb>=1.0.9->langchain-chroma) (0.34.3)\n",
      "Requirement already satisfied: filelock in c:\\users\\p\\desktop\\rag_embed\\first_pjt\\venv\\lib\\site-packages (from huggingface-hub<1.0,>=0.16.4->tokenizers>=0.13.2->chromadb>=1.0.9->langchain-chroma) (3.18.0)\n",
      "Requirement already satisfied: fsspec>=2023.5.0 in c:\\users\\p\\desktop\\rag_embed\\first_pjt\\venv\\lib\\site-packages (from huggingface-hub<1.0,>=0.16.4->tokenizers>=0.13.2->chromadb>=1.0.9->langchain-chroma) (2025.7.0)\n",
      "Requirement already satisfied: click>=8.0.0 in c:\\users\\p\\desktop\\rag_embed\\first_pjt\\venv\\lib\\site-packages (from typer>=0.9.0->chromadb>=1.0.9->langchain-chroma) (8.2.1)\n",
      "Requirement already satisfied: shellingham>=1.3.0 in c:\\users\\p\\desktop\\rag_embed\\first_pjt\\venv\\lib\\site-packages (from typer>=0.9.0->chromadb>=1.0.9->langchain-chroma) (1.5.4)\n",
      "Requirement already satisfied: httptools>=0.6.3 in c:\\users\\p\\desktop\\rag_embed\\first_pjt\\venv\\lib\\site-packages (from uvicorn[standard]>=0.18.3->chromadb>=1.0.9->langchain-chroma) (0.6.4)\n",
      "Requirement already satisfied: watchfiles>=0.13 in c:\\users\\p\\desktop\\rag_embed\\first_pjt\\venv\\lib\\site-packages (from uvicorn[standard]>=0.18.3->chromadb>=1.0.9->langchain-chroma) (1.1.0)\n",
      "Requirement already satisfied: websockets>=10.4 in c:\\users\\p\\desktop\\rag_embed\\first_pjt\\venv\\lib\\site-packages (from uvicorn[standard]>=0.18.3->chromadb>=1.0.9->langchain-chroma) (15.0.1)\n",
      "Requirement already satisfied: humanfriendly>=9.1 in c:\\users\\p\\desktop\\rag_embed\\first_pjt\\venv\\lib\\site-packages (from coloredlogs->onnxruntime>=1.14.1->chromadb>=1.0.9->langchain-chroma) (10.0)\n",
      "Requirement already satisfied: pyreadline3 in c:\\users\\p\\desktop\\rag_embed\\first_pjt\\venv\\lib\\site-packages (from humanfriendly>=9.1->coloredlogs->onnxruntime>=1.14.1->chromadb>=1.0.9->langchain-chroma) (3.5.4)\n",
      "Requirement already satisfied: mpmath<1.4,>=1.1.0 in c:\\users\\p\\desktop\\rag_embed\\first_pjt\\venv\\lib\\site-packages (from sympy->onnxruntime>=1.14.1->chromadb>=1.0.9->langchain-chroma) (1.3.0)\n"
     ]
    }
   ],
   "source": [
    "!pip install langchain langchain-openai langchain-chroma langchain-community openai faiss-cpu python-docx dotenv"
   ]
  },
  {
   "cell_type": "markdown",
   "id": "f74fd762",
   "metadata": {},
   "source": [
    "## 환경 변수 설정"
   ]
  },
  {
   "cell_type": "code",
   "execution_count": 1,
   "id": "e720ae86",
   "metadata": {},
   "outputs": [
    {
     "name": "stdout",
     "output_type": "stream",
     "text": [
      "file_path: Structural_Interpretation.docx\n"
     ]
    }
   ],
   "source": [
    "from dotenv import load_dotenv\n",
    "import os\n",
    "load_dotenv()\n",
    "\n",
    "file_path = os.getenv(\"FILE_PATH\")\n",
    "os.environ[\"OPENAI_API_KEY\"] = os.getenv(\"OPENAI_API_KEY\")\n",
    "os.environ[\"OPENAI_API_BASE\"] = os.getenv(\"OPENAI_API_BASE\")\n",
    "\n",
    "print(f'file_path: {file_path}')\n"
   ]
  },
  {
   "cell_type": "markdown",
   "id": "1a0a6629",
   "metadata": {},
   "source": [
    "## 문서 로딩\n",
    "- docx 문서 로딩"
   ]
  },
  {
   "cell_type": "code",
   "execution_count": 2,
   "id": "896d2e5d",
   "metadata": {},
   "outputs": [
    {
     "name": "stdout",
     "output_type": "stream",
     "text": [
      "loaded : Structural_Interpretation.docx\n"
     ]
    }
   ],
   "source": [
    "from docx import Document as DocxDocument\n",
    "\n",
    "\n",
    "\n",
    "def load_docx(file_path) -> str:\n",
    "    try:\n",
    "        \"\"\"\n",
    "        문서 파일 읽고 텍스트로 변환\n",
    "        \"\"\"\n",
    "        doc = DocxDocument(file_path)\n",
    "        text = []\n",
    "        for para in doc.paragraphs:\n",
    "            text.append(para.text)\n",
    "        \n",
    "        print(f\"loaded : {file_path}\")\n",
    "\n",
    "        return \"\\n\".join(text)\n",
    "    except Exception as e:\n",
    "        print(f\"Error loading {file_path}: {e}\")\n",
    "        return \"\"\n",
    "\n",
    "full_text = load_docx(file_path)\n"
   ]
  },
  {
   "cell_type": "markdown",
   "id": "4a4e04ec",
   "metadata": {},
   "source": [
    "# 데이터 청킹\n",
    "### 문서 구조\n",
    "- [] 대괄호 category\n",
    "- {} 중괄호 소분류 \n",
    "\n",
    "해당 분류 기준을 중심으로 chunking\n",
    "## WHY ? \n",
    "1. 분류를 메타데이터로 정확도 향상\n",
    "2. 의미기반 chunking 으로 노이즈 없는 store구성을 위해서"
   ]
  },
  {
   "cell_type": "code",
   "execution_count": 3,
   "id": "737fe730",
   "metadata": {},
   "outputs": [
    {
     "name": "stdout",
     "output_type": "stream",
     "text": [
      "Total chunks: 77\n",
      "✅ done\n"
     ]
    }
   ],
   "source": [
    "# 문서 저장소\n",
    "# 문서는 [] 로 대주제, {}로 소주제로 나뉘어져 있음 기준으로 청킹\n",
    "import re\n",
    "from langchain_core.documents import Document\n",
    "from pprint import pprint\n",
    "\n",
    "chunks = [] # 청크 저장소\n",
    "main_topic = None # 대주제\n",
    "sub_topic = None # 소주제\n",
    "content = [] # 본문\n",
    "\n",
    "def add_chunk(main, sub, content):\n",
    "    \"\"\"\n",
    "    청크를 추가하는 함수\n",
    "    \"\"\"\n",
    "    if main and content:\n",
    "        chunks.append(\n",
    "            Document(\n",
    "                page_content=\" \".join(content).strip(),\n",
    "                metadata={\"main_topic\": main, \"sub_topic\": sub},\n",
    "            )\n",
    "        )\n",
    "\n",
    "# 청킹\n",
    "\"\"\"\n",
    "각 주제가 바뀌는 [], {} 단위로 청크를 나누고 저장\n",
    "문서 구조) \n",
    "[대주제1]\n",
    "{소주제1}\n",
    "내용1\n",
    "내용2\n",
    "{소주제2}\n",
    "내용3\n",
    "\n",
    "\"\"\"\n",
    "try:\n",
    "    for line in full_text.split(\"\\n\"):\n",
    "        line = line.strip()\n",
    "        # 빈줄\n",
    "        if not line:\n",
    "            continue\n",
    "        # 대주제\n",
    "        if re.match(r\"^\\[.*\\]$\", line):\n",
    "            # 이전 청크 저장\n",
    "            add_chunk(main_topic, sub_topic, content)\n",
    "\n",
    "            content = []\n",
    "            main_topic = line[1:-1].strip()\n",
    "            sub_topic = None\n",
    "            continue\n",
    "        # 소주제\n",
    "        if re.match(r\"^\\{.*\\}$\", line):\n",
    "            # 이전 청크 저장\n",
    "            add_chunk(main_topic, sub_topic, content)\n",
    "            content = []\n",
    "            sub_topic = line[1:-1].strip()\n",
    "            continue\n",
    "        # 내용\n",
    "        content.append(line)\n",
    "    # 마지막 청크 저장\n",
    "    add_chunk(main_topic, sub_topic, content)\n",
    "    print(f\"Total chunks: {len(chunks)}\")\n",
    "    print(\"✅ done\")\n",
    "except Exception as e:\n",
    "    print(f\"Error during chunking: {e}\")\n"
   ]
  },
  {
   "cell_type": "markdown",
   "id": "234509ce",
   "metadata": {},
   "source": [
    "# 청크 임베딩\n",
    "## vectorDB\n",
    "### FAISS, ChromaDB"
   ]
  },
  {
   "cell_type": "code",
   "execution_count": 7,
   "id": "a5286060",
   "metadata": {},
   "outputs": [],
   "source": [
    "from langchain_openai import OpenAIEmbeddings\n",
    "from langchain_community.vectorstores import FAISS\n",
    "from langchain_chroma import Chroma\n",
    "\n",
    "# 임베딩모델 설정\n",
    "embeddings = OpenAIEmbeddings(\n",
    "    model=\"text-embedding-3-small\",\n",
    ")\n"
   ]
  },
  {
   "cell_type": "code",
   "execution_count": 14,
   "id": "7b2c177f",
   "metadata": {},
   "outputs": [
    {
     "name": "stdout",
     "output_type": "stream",
     "text": [
      "FAISS store 로드 완료\n",
      "ChromaDB 로드 완료\n",
      "✅done\n"
     ]
    }
   ],
   "source": [
    "# %%time\n",
    "# 벡터 저장소 로드\n",
    "import time\n",
    "\n",
    "batch_size = 10  # 한번에 처리할 chunk 개수 (필요시 조절)\n",
    "all_chunks = chunks  # chunks는 이미 정의되어 있는 리스트\n",
    "\n",
    "# faiss_store\n",
    "faiss_store = FAISS.load_local(\"faiss_store\", embeddings=embeddings, allow_dangerous_deserialization=True) if os.path.exists(\"faiss_store\") else None\n",
    "\n",
    "if faiss_store is None:\n",
    "    print(\"FAISS store 생성 시작\")\n",
    "    for i in range(0, len(all_chunks), batch_size):\n",
    "        batch = all_chunks[i:i + batch_size]\n",
    "        # 벡터스토어 생성 및 추가\n",
    "        if faiss_store is None:\n",
    "            faiss_store = FAISS.from_documents(batch, embedding=embeddings)\n",
    "        else:\n",
    "            faiss_store.add_documents(batch)\n",
    "        # 요청 속도 제한에 대비하여 딜레이 추가\n",
    "        time.sleep(1)\n",
    "    else:\n",
    "        print(\"생성 완료\")\n",
    "else:\n",
    "    print(\"FAISS store 로드 완료\")\n",
    "\n",
    "# chroma_store\n",
    "chroma_store = Chroma(persist_directory=\"chroma_store\", embedding_function=embeddings) if os.path.exists(\"chroma_store\") else None\n",
    "\n",
    "if chroma_store is None:\n",
    "    print(\"ChromaDB 생성 시작\")\n",
    "    for i in range(0, len(all_chunks), batch_size):\n",
    "        batch = all_chunks[i:i + batch_size]\n",
    "        # 벡터스토어 생성 및 추가\n",
    "        if chroma_store is None:\n",
    "            chroma_store = Chroma.from_documents(batch, embedding=embeddings, persist_directory=\"chroma_store\")\n",
    "        else:\n",
    "            chroma_store.add_documents(batch)\n",
    "        # 요청 속도 제한에 대비하여 딜레이 추가\n",
    "        time.sleep(1)\n",
    "    else:\n",
    "        print(\"생성 완료\")\n",
    "\n",
    "else:\n",
    "    print(\"ChromaDB 로드 완료\")\n",
    "        \n",
    "    \n",
    "print(\"✅done\")"
   ]
  },
  {
   "cell_type": "markdown",
   "id": "59d1434b",
   "metadata": {},
   "source": [
    "### TEST"
   ]
  },
  {
   "cell_type": "code",
   "execution_count": 18,
   "id": "9f3643a8",
   "metadata": {},
   "outputs": [
    {
     "name": "stdout",
     "output_type": "stream",
     "text": [
      "77\n"
     ]
    }
   ],
   "source": [
    "# 모든 청크의 내용과 메타데이터 확인\n",
    "# for doc in chroma_store.similarity_search(\"오른쪽으로 치우쳐짐\", k=4):\n",
    "#     print(doc.page_content, doc.metadata)\n",
    "\n",
    "print(chroma_store._collection.count())\n",
    "\n"
   ]
  },
  {
   "cell_type": "markdown",
   "id": "7255f028",
   "metadata": {},
   "source": [
    "# save store"
   ]
  },
  {
   "cell_type": "code",
   "execution_count": 19,
   "id": "b41db533",
   "metadata": {},
   "outputs": [],
   "source": [
    "faiss_store.save_local(\"faiss_store\")"
   ]
  }
 ],
 "metadata": {
  "kernelspec": {
   "display_name": "venv",
   "language": "python",
   "name": "python3"
  },
  "language_info": {
   "codemirror_mode": {
    "name": "ipython",
    "version": 3
   },
   "file_extension": ".py",
   "mimetype": "text/x-python",
   "name": "python",
   "nbconvert_exporter": "python",
   "pygments_lexer": "ipython3",
   "version": "3.12.10"
  }
 },
 "nbformat": 4,
 "nbformat_minor": 5
}
